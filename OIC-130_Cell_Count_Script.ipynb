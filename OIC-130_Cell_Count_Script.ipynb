{
 "cells": [
  {
   "cell_type": "code",
   "execution_count": 9,
   "id": "e9ab2301-00b8-471d-bcaf-e8edea487087",
   "metadata": {},
   "outputs": [],
   "source": [
    "import skimage as sk\n",
    "from skimage.io import imsave\n",
    "import numpy as np\n",
    "import os\n",
    "from glob import glob\n",
    "import napari\n",
    "from cellpose import models, io, utils\n",
    "from cellpose.io import imread\n",
    "from cellpose import io, utils\n",
    "import matplotlib.pyplot as plt\n",
    "import pandas as pd"
   ]
  },
  {
   "cell_type": "code",
   "execution_count": 7,
   "id": "08d8ac11-10f8-4e9c-b282-a4a81e58ab74",
   "metadata": {},
   "outputs": [],
   "source": [
    "def get_measurements(mask,props):\n",
    "    measurements = sk.measure.regionprops_table(mask,properties=props)\n",
    "    df = pd.DataFrame.from_dict(measurements)\n",
    "    return df"
   ]
  },
  {
   "cell_type": "code",
   "execution_count": 14,
   "id": "1f43f53d-ada7-4e12-909f-a35d80379ead",
   "metadata": {},
   "outputs": [],
   "source": [
    "def save(save_path, img_name, masks, merged_df):\n",
    "    # make directories if they do not exist\n",
    "    try:\n",
    "        masks_path = os.mkdir(os.path.join(save_path,'masks'))\n",
    "        dataframe_path = os.mkdir(os.path.join(save_path,'measurements'))\n",
    "        outlines_path = os.mkdir(os.path.join(save_path,'ImageJ_ROIs'))\n",
    "    # use the expected paths if the directories exist already\n",
    "    except:\n",
    "        masks_path = os.path.join(save_path,'masks')\n",
    "        dataframe_path = os.path.join(save_path,'measurements')\n",
    "        outlines_path = os.path.join(save_path,'ImageJ_ROIs') \n",
    "    imsave(os.path.join(masks_path,'masks_'+img_name[:-4]+'.tif'),masks)\n",
    "    merged_df.to_csv(os.path.join(dataframe_path,'measurements_'+img_name[:-4]+'.csv'))\n",
    "    io.save_rois(masks,img_name)"
   ]
  },
  {
   "cell_type": "code",
   "execution_count": 4,
   "id": "955373b2-4e55-4de2-8da7-12f3ea8f7c93",
   "metadata": {},
   "outputs": [],
   "source": [
    "all_files = sorted(glob('E:/Lien_Lab/Sam/OIC-130_CellCountScript/All_Imgs/Imgs/*.tif'))\n",
    "all_img = [imread(file) for file in all_files]"
   ]
  },
  {
   "cell_type": "code",
   "execution_count": null,
   "id": "1bfe3b5c-42cd-4ef6-b37e-17ef2dea561f",
   "metadata": {},
   "outputs": [],
   "source": [
    "test_img = all_img[0]"
   ]
  },
  {
   "cell_type": "code",
   "execution_count": 5,
   "id": "6634c8b7-5eaa-4875-91dd-100f67170759",
   "metadata": {},
   "outputs": [
    {
     "name": "stdout",
     "output_type": "stream",
     "text": [
      "creating new log file\n",
      "2025-05-15 11:57:50,443 [INFO] WRITING LOG OUTPUT TO C:\\Users\\kristin.gallik\\.cellpose\\run.log\n",
      "2025-05-15 11:57:50,445 [INFO] \n",
      "cellpose version: \t3.1.1.1 \n",
      "platform:       \twin32 \n",
      "python version: \t3.10.16 \n",
      "torch version:  \t2.6.0+cu118\n",
      "2025-05-15 11:57:50,448 [INFO] >> IncucyteV4 << model set to be used\n",
      "2025-05-15 11:57:50,557 [INFO] ** TORCH CUDA version installed and working. **\n",
      "2025-05-15 11:57:50,557 [INFO] >>>> using GPU (CUDA)\n",
      "2025-05-15 11:57:50,645 [INFO] >>>> loading model C:\\Users\\kristin.gallik\\.cellpose\\models\\IncucyteV4\n",
      "2025-05-15 11:57:50,762 [INFO] >>>> model diam_mean =  30.000 (ROIs rescaled to this size during training)\n",
      "2025-05-15 11:57:50,762 [INFO] >>>> model diam_labels =  28.678 (mean diameter of training ROIs)\n"
     ]
    }
   ],
   "source": [
    "io.logger_setup()\n",
    "model = models.CellposeModel(gpu=True,pretrained_model='IncucyteV4')\n",
    "# model_type='cyto' or 'nuclei' or 'cyto2' or 'cyto3'\n",
    "channels =[[0,0]]\n",
    "#masks, _, _= model.eval(test_img, diameter=20, channels=channels)"
   ]
  },
  {
   "cell_type": "code",
   "execution_count": null,
   "id": "622d9c98-c613-4f22-9afa-a88df9f2ddfc",
   "metadata": {},
   "outputs": [],
   "source": [
    "print(np.max(masks))"
   ]
  },
  {
   "cell_type": "code",
   "execution_count": 15,
   "id": "82097fc6-7925-433b-8624-b20e5ba8800a",
   "metadata": {},
   "outputs": [
    {
     "name": "stderr",
     "output_type": "stream",
     "text": [
      "C:\\ProgramData\\anaconda3\\envs\\cellpose-env\\lib\\site-packages\\skimage\\_shared\\utils.py:328: UserWarning: E:/Lien_Lab/Sam/OIC-130_CellCountScript/masks\\masks_A549_timezero_seeding_A2_1_00d00h00m.tif is a low contrast image\n",
      "  return func(*args, **kwargs)\n",
      "C:\\ProgramData\\anaconda3\\envs\\cellpose-env\\lib\\site-packages\\skimage\\_shared\\utils.py:328: UserWarning: E:/Lien_Lab/Sam/OIC-130_CellCountScript/masks\\masks_A549_timezero_seeding_A2_2_00d00h00m.tif is a low contrast image\n",
      "  return func(*args, **kwargs)\n",
      "C:\\ProgramData\\anaconda3\\envs\\cellpose-env\\lib\\site-packages\\skimage\\_shared\\utils.py:328: UserWarning: E:/Lien_Lab/Sam/OIC-130_CellCountScript/masks\\masks_A549_timezero_seeding_A2_3_00d00h00m.tif is a low contrast image\n",
      "  return func(*args, **kwargs)\n"
     ]
    },
    {
     "name": "stdout",
     "output_type": "stream",
     "text": [
      "2025-05-15 12:18:36,205 [WARNING] Multiprocessing is disabled for Windows\n"
     ]
    },
    {
     "name": "stderr",
     "output_type": "stream",
     "text": [
      "C:\\ProgramData\\anaconda3\\envs\\cellpose-env\\lib\\site-packages\\skimage\\_shared\\utils.py:328: UserWarning: E:/Lien_Lab/Sam/OIC-130_CellCountScript/masks\\masks_A549_timezero_seeding_A2_4_00d00h00m.tif is a low contrast image\n",
      "  return func(*args, **kwargs)\n",
      "C:\\ProgramData\\anaconda3\\envs\\cellpose-env\\lib\\site-packages\\skimage\\_shared\\utils.py:328: UserWarning: E:/Lien_Lab/Sam/OIC-130_CellCountScript/masks\\masks_A549_timezero_seeding_A2_5_00d00h00m.tif is a low contrast image\n",
      "  return func(*args, **kwargs)\n",
      "C:\\ProgramData\\anaconda3\\envs\\cellpose-env\\lib\\site-packages\\skimage\\_shared\\utils.py:328: UserWarning: E:/Lien_Lab/Sam/OIC-130_CellCountScript/masks\\masks_A549_timezero_seeding_B5_1_00d00h00m.tif is a low contrast image\n",
      "  return func(*args, **kwargs)\n",
      "C:\\ProgramData\\anaconda3\\envs\\cellpose-env\\lib\\site-packages\\skimage\\_shared\\utils.py:328: UserWarning: E:/Lien_Lab/Sam/OIC-130_CellCountScript/masks\\masks_A549_timezero_seeding_B5_2_00d00h00m.tif is a low contrast image\n",
      "  return func(*args, **kwargs)\n",
      "C:\\ProgramData\\anaconda3\\envs\\cellpose-env\\lib\\site-packages\\skimage\\_shared\\utils.py:328: UserWarning: E:/Lien_Lab/Sam/OIC-130_CellCountScript/masks\\masks_A549_timezero_seeding_B5_3_00d00h00m.tif is a low contrast image\n",
      "  return func(*args, **kwargs)\n",
      "C:\\ProgramData\\anaconda3\\envs\\cellpose-env\\lib\\site-packages\\skimage\\_shared\\utils.py:328: UserWarning: E:/Lien_Lab/Sam/OIC-130_CellCountScript/masks\\masks_A549_timezero_seeding_B5_4_00d00h00m.tif is a low contrast image\n",
      "  return func(*args, **kwargs)\n",
      "C:\\ProgramData\\anaconda3\\envs\\cellpose-env\\lib\\site-packages\\skimage\\_shared\\utils.py:328: UserWarning: E:/Lien_Lab/Sam/OIC-130_CellCountScript/masks\\masks_A549_timezero_seeding_D3_1_00d00h00m.tif is a low contrast image\n",
      "  return func(*args, **kwargs)\n",
      "C:\\ProgramData\\anaconda3\\envs\\cellpose-env\\lib\\site-packages\\skimage\\_shared\\utils.py:328: UserWarning: E:/Lien_Lab/Sam/OIC-130_CellCountScript/masks\\masks_A549_timezero_seeding_D3_2_00d00h00m.tif is a low contrast image\n",
      "  return func(*args, **kwargs)\n",
      "C:\\ProgramData\\anaconda3\\envs\\cellpose-env\\lib\\site-packages\\skimage\\_shared\\utils.py:328: UserWarning: E:/Lien_Lab/Sam/OIC-130_CellCountScript/masks\\masks_A549_timezero_seeding_D3_3_00d00h00m.tif is a low contrast image\n",
      "  return func(*args, **kwargs)\n",
      "C:\\ProgramData\\anaconda3\\envs\\cellpose-env\\lib\\site-packages\\skimage\\_shared\\utils.py:328: UserWarning: E:/Lien_Lab/Sam/OIC-130_CellCountScript/masks\\masks_A549_timezero_seeding_D3_4_00d00h00m.tif is a low contrast image\n",
      "  return func(*args, **kwargs)\n",
      "C:\\ProgramData\\anaconda3\\envs\\cellpose-env\\lib\\site-packages\\skimage\\_shared\\utils.py:328: UserWarning: E:/Lien_Lab/Sam/OIC-130_CellCountScript/masks\\masks_A549_timezero_seeding_D6_1_00d00h00m.tif is a low contrast image\n",
      "  return func(*args, **kwargs)\n",
      "C:\\ProgramData\\anaconda3\\envs\\cellpose-env\\lib\\site-packages\\skimage\\_shared\\utils.py:328: UserWarning: E:/Lien_Lab/Sam/OIC-130_CellCountScript/masks\\masks_A549_timezero_seeding_D6_2_00d00h00m.tif is a low contrast image\n",
      "  return func(*args, **kwargs)\n",
      "C:\\ProgramData\\anaconda3\\envs\\cellpose-env\\lib\\site-packages\\skimage\\_shared\\utils.py:328: UserWarning: E:/Lien_Lab/Sam/OIC-130_CellCountScript/masks\\masks_A549_timezero_seeding_D6_3_00d00h00m.tif is a low contrast image\n",
      "  return func(*args, **kwargs)\n",
      "C:\\ProgramData\\anaconda3\\envs\\cellpose-env\\lib\\site-packages\\skimage\\_shared\\utils.py:328: UserWarning: E:/Lien_Lab/Sam/OIC-130_CellCountScript/masks\\masks_A549_timezero_seeding_D6_4_00d00h00m.tif is a low contrast image\n",
      "  return func(*args, **kwargs)\n",
      "C:\\ProgramData\\anaconda3\\envs\\cellpose-env\\lib\\site-packages\\skimage\\_shared\\utils.py:328: UserWarning: E:/Lien_Lab/Sam/OIC-130_CellCountScript/masks\\masks_VID2207_A1_1_00d00h00m.tif is a low contrast image\n",
      "  return func(*args, **kwargs)\n",
      "C:\\ProgramData\\anaconda3\\envs\\cellpose-env\\lib\\site-packages\\skimage\\_shared\\utils.py:328: UserWarning: E:/Lien_Lab/Sam/OIC-130_CellCountScript/masks\\masks_VID2207_A1_1_01d00h00m.tif is a low contrast image\n",
      "  return func(*args, **kwargs)\n",
      "C:\\ProgramData\\anaconda3\\envs\\cellpose-env\\lib\\site-packages\\skimage\\_shared\\utils.py:328: UserWarning: E:/Lien_Lab/Sam/OIC-130_CellCountScript/masks\\masks_VID2207_A1_1_02d00h00m.tif is a low contrast image\n",
      "  return func(*args, **kwargs)\n"
     ]
    },
    {
     "name": "stdout",
     "output_type": "stream",
     "text": [
      "2025-05-15 12:19:34,359 [WARNING] Multiprocessing is disabled for Windows\n"
     ]
    },
    {
     "name": "stderr",
     "output_type": "stream",
     "text": [
      "C:\\ProgramData\\anaconda3\\envs\\cellpose-env\\lib\\site-packages\\skimage\\_shared\\utils.py:328: UserWarning: E:/Lien_Lab/Sam/OIC-130_CellCountScript/masks\\masks_VID2207_A1_1_03d00h00m.tif is a low contrast image\n",
      "  return func(*args, **kwargs)\n",
      "C:\\ProgramData\\anaconda3\\envs\\cellpose-env\\lib\\site-packages\\skimage\\_shared\\utils.py:328: UserWarning: E:/Lien_Lab/Sam/OIC-130_CellCountScript/masks\\masks_VID2207_A1_2_00d00h00m.tif is a low contrast image\n",
      "  return func(*args, **kwargs)\n",
      "C:\\ProgramData\\anaconda3\\envs\\cellpose-env\\lib\\site-packages\\skimage\\_shared\\utils.py:328: UserWarning: E:/Lien_Lab/Sam/OIC-130_CellCountScript/masks\\masks_VID2207_A1_2_01d00h00m.tif is a low contrast image\n",
      "  return func(*args, **kwargs)\n",
      "C:\\ProgramData\\anaconda3\\envs\\cellpose-env\\lib\\site-packages\\skimage\\_shared\\utils.py:328: UserWarning: E:/Lien_Lab/Sam/OIC-130_CellCountScript/masks\\masks_VID2207_A1_2_02d00h00m.tif is a low contrast image\n",
      "  return func(*args, **kwargs)\n",
      "C:\\ProgramData\\anaconda3\\envs\\cellpose-env\\lib\\site-packages\\skimage\\_shared\\utils.py:328: UserWarning: E:/Lien_Lab/Sam/OIC-130_CellCountScript/masks\\masks_VID2207_A1_2_03d00h00m.tif is a low contrast image\n",
      "  return func(*args, **kwargs)\n",
      "C:\\ProgramData\\anaconda3\\envs\\cellpose-env\\lib\\site-packages\\skimage\\_shared\\utils.py:328: UserWarning: E:/Lien_Lab/Sam/OIC-130_CellCountScript/masks\\masks_VID2207_A1_3_00d00h00m.tif is a low contrast image\n",
      "  return func(*args, **kwargs)\n",
      "C:\\ProgramData\\anaconda3\\envs\\cellpose-env\\lib\\site-packages\\skimage\\_shared\\utils.py:328: UserWarning: E:/Lien_Lab/Sam/OIC-130_CellCountScript/masks\\masks_VID2207_A1_3_01d00h00m.tif is a low contrast image\n",
      "  return func(*args, **kwargs)\n",
      "C:\\ProgramData\\anaconda3\\envs\\cellpose-env\\lib\\site-packages\\skimage\\_shared\\utils.py:328: UserWarning: E:/Lien_Lab/Sam/OIC-130_CellCountScript/masks\\masks_VID2207_A1_3_02d00h00m.tif is a low contrast image\n",
      "  return func(*args, **kwargs)\n",
      "C:\\ProgramData\\anaconda3\\envs\\cellpose-env\\lib\\site-packages\\skimage\\_shared\\utils.py:328: UserWarning: E:/Lien_Lab/Sam/OIC-130_CellCountScript/masks\\masks_VID2207_A1_3_03d00h00m.tif is a low contrast image\n",
      "  return func(*args, **kwargs)\n",
      "C:\\ProgramData\\anaconda3\\envs\\cellpose-env\\lib\\site-packages\\skimage\\_shared\\utils.py:328: UserWarning: E:/Lien_Lab/Sam/OIC-130_CellCountScript/masks\\masks_VID2207_A1_4_00d00h00m.tif is a low contrast image\n",
      "  return func(*args, **kwargs)\n",
      "C:\\ProgramData\\anaconda3\\envs\\cellpose-env\\lib\\site-packages\\skimage\\_shared\\utils.py:328: UserWarning: E:/Lien_Lab/Sam/OIC-130_CellCountScript/masks\\masks_VID2207_A1_4_01d00h00m.tif is a low contrast image\n",
      "  return func(*args, **kwargs)\n",
      "C:\\ProgramData\\anaconda3\\envs\\cellpose-env\\lib\\site-packages\\skimage\\_shared\\utils.py:328: UserWarning: E:/Lien_Lab/Sam/OIC-130_CellCountScript/masks\\masks_VID2207_A1_4_02d00h00m.tif is a low contrast image\n",
      "  return func(*args, **kwargs)\n"
     ]
    },
    {
     "name": "stdout",
     "output_type": "stream",
     "text": [
      "2025-05-15 12:20:28,445 [WARNING] Multiprocessing is disabled for Windows\n"
     ]
    },
    {
     "name": "stderr",
     "output_type": "stream",
     "text": [
      "C:\\ProgramData\\anaconda3\\envs\\cellpose-env\\lib\\site-packages\\skimage\\_shared\\utils.py:328: UserWarning: E:/Lien_Lab/Sam/OIC-130_CellCountScript/masks\\masks_VID2207_A1_4_03d00h00m.tif is a low contrast image\n",
      "  return func(*args, **kwargs)\n",
      "C:\\ProgramData\\anaconda3\\envs\\cellpose-env\\lib\\site-packages\\skimage\\_shared\\utils.py:328: UserWarning: E:/Lien_Lab/Sam/OIC-130_CellCountScript/masks\\masks_VID2207_A1_5_00d00h00m.tif is a low contrast image\n",
      "  return func(*args, **kwargs)\n",
      "C:\\ProgramData\\anaconda3\\envs\\cellpose-env\\lib\\site-packages\\skimage\\_shared\\utils.py:328: UserWarning: E:/Lien_Lab/Sam/OIC-130_CellCountScript/masks\\masks_VID2207_A1_5_01d00h00m.tif is a low contrast image\n",
      "  return func(*args, **kwargs)\n",
      "C:\\ProgramData\\anaconda3\\envs\\cellpose-env\\lib\\site-packages\\skimage\\_shared\\utils.py:328: UserWarning: E:/Lien_Lab/Sam/OIC-130_CellCountScript/masks\\masks_VID2207_A1_5_02d00h00m.tif is a low contrast image\n",
      "  return func(*args, **kwargs)\n",
      "C:\\ProgramData\\anaconda3\\envs\\cellpose-env\\lib\\site-packages\\skimage\\_shared\\utils.py:328: UserWarning: E:/Lien_Lab/Sam/OIC-130_CellCountScript/masks\\masks_VID2207_A1_5_03d00h00m.tif is a low contrast image\n",
      "  return func(*args, **kwargs)\n",
      "C:\\ProgramData\\anaconda3\\envs\\cellpose-env\\lib\\site-packages\\skimage\\_shared\\utils.py:328: UserWarning: E:/Lien_Lab/Sam/OIC-130_CellCountScript/masks\\masks_VID2207_A1_6_00d00h00m.tif is a low contrast image\n",
      "  return func(*args, **kwargs)\n",
      "C:\\ProgramData\\anaconda3\\envs\\cellpose-env\\lib\\site-packages\\skimage\\_shared\\utils.py:328: UserWarning: E:/Lien_Lab/Sam/OIC-130_CellCountScript/masks\\masks_VID2207_A1_6_01d00h00m.tif is a low contrast image\n",
      "  return func(*args, **kwargs)\n",
      "C:\\ProgramData\\anaconda3\\envs\\cellpose-env\\lib\\site-packages\\skimage\\_shared\\utils.py:328: UserWarning: E:/Lien_Lab/Sam/OIC-130_CellCountScript/masks\\masks_VID2207_A1_6_02d00h00m.tif is a low contrast image\n",
      "  return func(*args, **kwargs)\n"
     ]
    },
    {
     "name": "stdout",
     "output_type": "stream",
     "text": [
      "2025-05-15 12:21:03,624 [WARNING] Multiprocessing is disabled for Windows\n"
     ]
    },
    {
     "name": "stderr",
     "output_type": "stream",
     "text": [
      "C:\\ProgramData\\anaconda3\\envs\\cellpose-env\\lib\\site-packages\\skimage\\_shared\\utils.py:328: UserWarning: E:/Lien_Lab/Sam/OIC-130_CellCountScript/masks\\masks_VID2207_A1_6_03d00h00m.tif is a low contrast image\n",
      "  return func(*args, **kwargs)\n",
      "C:\\ProgramData\\anaconda3\\envs\\cellpose-env\\lib\\site-packages\\skimage\\_shared\\utils.py:328: UserWarning: E:/Lien_Lab/Sam/OIC-130_CellCountScript/masks\\masks_VID2207_A1_7_00d00h00m.tif is a low contrast image\n",
      "  return func(*args, **kwargs)\n",
      "C:\\ProgramData\\anaconda3\\envs\\cellpose-env\\lib\\site-packages\\skimage\\_shared\\utils.py:328: UserWarning: E:/Lien_Lab/Sam/OIC-130_CellCountScript/masks\\masks_VID2207_A1_7_01d00h00m.tif is a low contrast image\n",
      "  return func(*args, **kwargs)\n",
      "C:\\ProgramData\\anaconda3\\envs\\cellpose-env\\lib\\site-packages\\skimage\\_shared\\utils.py:328: UserWarning: E:/Lien_Lab/Sam/OIC-130_CellCountScript/masks\\masks_VID2207_A1_7_02d00h00m.tif is a low contrast image\n",
      "  return func(*args, **kwargs)\n"
     ]
    },
    {
     "name": "stdout",
     "output_type": "stream",
     "text": [
      "2025-05-15 12:21:25,368 [WARNING] Multiprocessing is disabled for Windows\n"
     ]
    },
    {
     "name": "stderr",
     "output_type": "stream",
     "text": [
      "C:\\ProgramData\\anaconda3\\envs\\cellpose-env\\lib\\site-packages\\skimage\\_shared\\utils.py:328: UserWarning: E:/Lien_Lab/Sam/OIC-130_CellCountScript/masks\\masks_VID2207_A1_7_03d00h00m.tif is a low contrast image\n",
      "  return func(*args, **kwargs)\n",
      "C:\\ProgramData\\anaconda3\\envs\\cellpose-env\\lib\\site-packages\\skimage\\_shared\\utils.py:328: UserWarning: E:/Lien_Lab/Sam/OIC-130_CellCountScript/masks\\masks_VID2207_A1_8_00d00h00m.tif is a low contrast image\n",
      "  return func(*args, **kwargs)\n",
      "C:\\ProgramData\\anaconda3\\envs\\cellpose-env\\lib\\site-packages\\skimage\\_shared\\utils.py:328: UserWarning: E:/Lien_Lab/Sam/OIC-130_CellCountScript/masks\\masks_VID2207_A1_8_01d00h00m.tif is a low contrast image\n",
      "  return func(*args, **kwargs)\n",
      "C:\\ProgramData\\anaconda3\\envs\\cellpose-env\\lib\\site-packages\\skimage\\_shared\\utils.py:328: UserWarning: E:/Lien_Lab/Sam/OIC-130_CellCountScript/masks\\masks_VID2207_A1_8_02d00h00m.tif is a low contrast image\n",
      "  return func(*args, **kwargs)\n"
     ]
    },
    {
     "name": "stdout",
     "output_type": "stream",
     "text": [
      "2025-05-15 12:21:48,114 [WARNING] Multiprocessing is disabled for Windows\n"
     ]
    },
    {
     "name": "stderr",
     "output_type": "stream",
     "text": [
      "C:\\ProgramData\\anaconda3\\envs\\cellpose-env\\lib\\site-packages\\skimage\\_shared\\utils.py:328: UserWarning: E:/Lien_Lab/Sam/OIC-130_CellCountScript/masks\\masks_VID2207_A1_8_03d00h00m.tif is a low contrast image\n",
      "  return func(*args, **kwargs)\n",
      "C:\\ProgramData\\anaconda3\\envs\\cellpose-env\\lib\\site-packages\\skimage\\_shared\\utils.py:328: UserWarning: E:/Lien_Lab/Sam/OIC-130_CellCountScript/masks\\masks_VID2207_A1_9_00d00h00m.tif is a low contrast image\n",
      "  return func(*args, **kwargs)\n",
      "C:\\ProgramData\\anaconda3\\envs\\cellpose-env\\lib\\site-packages\\skimage\\_shared\\utils.py:328: UserWarning: E:/Lien_Lab/Sam/OIC-130_CellCountScript/masks\\masks_VID2207_A1_9_01d00h00m.tif is a low contrast image\n",
      "  return func(*args, **kwargs)\n",
      "C:\\ProgramData\\anaconda3\\envs\\cellpose-env\\lib\\site-packages\\skimage\\_shared\\utils.py:328: UserWarning: E:/Lien_Lab/Sam/OIC-130_CellCountScript/masks\\masks_VID2207_A1_9_02d00h00m.tif is a low contrast image\n",
      "  return func(*args, **kwargs)\n",
      "C:\\ProgramData\\anaconda3\\envs\\cellpose-env\\lib\\site-packages\\skimage\\_shared\\utils.py:328: UserWarning: E:/Lien_Lab/Sam/OIC-130_CellCountScript/masks\\masks_VID2207_A1_9_03d00h00m.tif is a low contrast image\n",
      "  return func(*args, **kwargs)\n",
      "C:\\ProgramData\\anaconda3\\envs\\cellpose-env\\lib\\site-packages\\skimage\\_shared\\utils.py:328: UserWarning: E:/Lien_Lab/Sam/OIC-130_CellCountScript/masks\\masks_VID2213_A3_1_00d00h00m.tif is a low contrast image\n",
      "  return func(*args, **kwargs)\n",
      "C:\\ProgramData\\anaconda3\\envs\\cellpose-env\\lib\\site-packages\\skimage\\_shared\\utils.py:328: UserWarning: E:/Lien_Lab/Sam/OIC-130_CellCountScript/masks\\masks_VID2213_A3_1_01d06h00m.tif is a low contrast image\n",
      "  return func(*args, **kwargs)\n",
      "C:\\ProgramData\\anaconda3\\envs\\cellpose-env\\lib\\site-packages\\skimage\\_shared\\utils.py:328: UserWarning: E:/Lien_Lab/Sam/OIC-130_CellCountScript/masks\\masks_VID2213_A3_2_00d00h00m.tif is a low contrast image\n",
      "  return func(*args, **kwargs)\n"
     ]
    },
    {
     "name": "stdout",
     "output_type": "stream",
     "text": [
      "2025-05-15 12:22:27,794 [WARNING] Multiprocessing is disabled for Windows\n"
     ]
    },
    {
     "name": "stderr",
     "output_type": "stream",
     "text": [
      "C:\\ProgramData\\anaconda3\\envs\\cellpose-env\\lib\\site-packages\\skimage\\_shared\\utils.py:328: UserWarning: E:/Lien_Lab/Sam/OIC-130_CellCountScript/masks\\masks_VID2213_A3_2_01d06h00m.tif is a low contrast image\n",
      "  return func(*args, **kwargs)\n",
      "C:\\ProgramData\\anaconda3\\envs\\cellpose-env\\lib\\site-packages\\skimage\\_shared\\utils.py:328: UserWarning: E:/Lien_Lab/Sam/OIC-130_CellCountScript/masks\\masks_VID2213_A3_3_00d00h00m.tif is a low contrast image\n",
      "  return func(*args, **kwargs)\n",
      "C:\\ProgramData\\anaconda3\\envs\\cellpose-env\\lib\\site-packages\\skimage\\_shared\\utils.py:328: UserWarning: E:/Lien_Lab/Sam/OIC-130_CellCountScript/masks\\masks_VID2213_A3_3_01d06h00m.tif is a low contrast image\n",
      "  return func(*args, **kwargs)\n",
      "C:\\ProgramData\\anaconda3\\envs\\cellpose-env\\lib\\site-packages\\skimage\\_shared\\utils.py:328: UserWarning: E:/Lien_Lab/Sam/OIC-130_CellCountScript/masks\\masks_VID2213_A3_4_00d00h00m.tif is a low contrast image\n",
      "  return func(*args, **kwargs)\n"
     ]
    },
    {
     "name": "stdout",
     "output_type": "stream",
     "text": [
      "2025-05-15 12:22:52,494 [WARNING] Multiprocessing is disabled for Windows\n"
     ]
    },
    {
     "name": "stderr",
     "output_type": "stream",
     "text": [
      "C:\\ProgramData\\anaconda3\\envs\\cellpose-env\\lib\\site-packages\\skimage\\_shared\\utils.py:328: UserWarning: E:/Lien_Lab/Sam/OIC-130_CellCountScript/masks\\masks_VID2213_A3_4_01d06h00m.tif is a low contrast image\n",
      "  return func(*args, **kwargs)\n"
     ]
    },
    {
     "name": "stdout",
     "output_type": "stream",
     "text": [
      "2025-05-15 12:23:07,226 [WARNING] Multiprocessing is disabled for Windows\n"
     ]
    },
    {
     "name": "stderr",
     "output_type": "stream",
     "text": [
      "C:\\ProgramData\\anaconda3\\envs\\cellpose-env\\lib\\site-packages\\skimage\\_shared\\utils.py:328: UserWarning: E:/Lien_Lab/Sam/OIC-130_CellCountScript/masks\\masks_VID2213_A3_5_00d00h00m.tif is a low contrast image\n",
      "  return func(*args, **kwargs)\n"
     ]
    },
    {
     "name": "stdout",
     "output_type": "stream",
     "text": [
      "2025-05-15 12:23:15,824 [WARNING] Multiprocessing is disabled for Windows\n"
     ]
    },
    {
     "name": "stderr",
     "output_type": "stream",
     "text": [
      "C:\\ProgramData\\anaconda3\\envs\\cellpose-env\\lib\\site-packages\\skimage\\_shared\\utils.py:328: UserWarning: E:/Lien_Lab/Sam/OIC-130_CellCountScript/masks\\masks_VID2213_A3_5_01d06h00m.tif is a low contrast image\n",
      "  return func(*args, **kwargs)\n",
      "C:\\ProgramData\\anaconda3\\envs\\cellpose-env\\lib\\site-packages\\skimage\\_shared\\utils.py:328: UserWarning: E:/Lien_Lab/Sam/OIC-130_CellCountScript/masks\\masks_VID2213_B2_1_00d00h00m.tif is a low contrast image\n",
      "  return func(*args, **kwargs)\n",
      "C:\\ProgramData\\anaconda3\\envs\\cellpose-env\\lib\\site-packages\\skimage\\_shared\\utils.py:328: UserWarning: E:/Lien_Lab/Sam/OIC-130_CellCountScript/masks\\masks_VID2213_B2_1_01d06h00m.tif is a low contrast image\n",
      "  return func(*args, **kwargs)\n",
      "C:\\ProgramData\\anaconda3\\envs\\cellpose-env\\lib\\site-packages\\skimage\\_shared\\utils.py:328: UserWarning: E:/Lien_Lab/Sam/OIC-130_CellCountScript/masks\\masks_VID2213_B2_2_00d00h00m.tif is a low contrast image\n",
      "  return func(*args, **kwargs)\n"
     ]
    },
    {
     "name": "stdout",
     "output_type": "stream",
     "text": [
      "2025-05-15 12:23:46,456 [WARNING] Multiprocessing is disabled for Windows\n"
     ]
    },
    {
     "name": "stderr",
     "output_type": "stream",
     "text": [
      "C:\\ProgramData\\anaconda3\\envs\\cellpose-env\\lib\\site-packages\\skimage\\_shared\\utils.py:328: UserWarning: E:/Lien_Lab/Sam/OIC-130_CellCountScript/masks\\masks_VID2213_B2_2_01d06h00m.tif is a low contrast image\n",
      "  return func(*args, **kwargs)\n",
      "C:\\ProgramData\\anaconda3\\envs\\cellpose-env\\lib\\site-packages\\skimage\\_shared\\utils.py:328: UserWarning: E:/Lien_Lab/Sam/OIC-130_CellCountScript/masks\\masks_VID2213_B2_3_00d00h00m.tif is a low contrast image\n",
      "  return func(*args, **kwargs)\n",
      "C:\\ProgramData\\anaconda3\\envs\\cellpose-env\\lib\\site-packages\\skimage\\_shared\\utils.py:328: UserWarning: E:/Lien_Lab/Sam/OIC-130_CellCountScript/masks\\masks_VID2213_B2_3_01d06h00m.tif is a low contrast image\n",
      "  return func(*args, **kwargs)\n",
      "C:\\ProgramData\\anaconda3\\envs\\cellpose-env\\lib\\site-packages\\skimage\\_shared\\utils.py:328: UserWarning: E:/Lien_Lab/Sam/OIC-130_CellCountScript/masks\\masks_VID2213_B2_4_00d00h00m.tif is a low contrast image\n",
      "  return func(*args, **kwargs)\n"
     ]
    },
    {
     "name": "stdout",
     "output_type": "stream",
     "text": [
      "2025-05-15 12:24:10,543 [WARNING] Multiprocessing is disabled for Windows\n"
     ]
    },
    {
     "name": "stderr",
     "output_type": "stream",
     "text": [
      "C:\\ProgramData\\anaconda3\\envs\\cellpose-env\\lib\\site-packages\\skimage\\_shared\\utils.py:328: UserWarning: E:/Lien_Lab/Sam/OIC-130_CellCountScript/masks\\masks_VID2213_B2_4_01d06h00m.tif is a low contrast image\n",
      "  return func(*args, **kwargs)\n",
      "C:\\ProgramData\\anaconda3\\envs\\cellpose-env\\lib\\site-packages\\skimage\\_shared\\utils.py:328: UserWarning: E:/Lien_Lab/Sam/OIC-130_CellCountScript/masks\\masks_VID2213_B2_5_00d00h00m.tif is a low contrast image\n",
      "  return func(*args, **kwargs)\n"
     ]
    },
    {
     "name": "stdout",
     "output_type": "stream",
     "text": [
      "2025-05-15 12:24:24,274 [WARNING] Multiprocessing is disabled for Windows\n"
     ]
    },
    {
     "name": "stderr",
     "output_type": "stream",
     "text": [
      "C:\\ProgramData\\anaconda3\\envs\\cellpose-env\\lib\\site-packages\\skimage\\_shared\\utils.py:328: UserWarning: E:/Lien_Lab/Sam/OIC-130_CellCountScript/masks\\masks_VID2213_B2_5_01d06h00m.tif is a low contrast image\n",
      "  return func(*args, **kwargs)\n",
      "C:\\ProgramData\\anaconda3\\envs\\cellpose-env\\lib\\site-packages\\skimage\\_shared\\utils.py:328: UserWarning: E:/Lien_Lab/Sam/OIC-130_CellCountScript/masks\\masks_VID2213_B2_6_00d00h00m.tif is a low contrast image\n",
      "  return func(*args, **kwargs)\n"
     ]
    },
    {
     "name": "stdout",
     "output_type": "stream",
     "text": [
      "2025-05-15 12:24:38,655 [WARNING] Multiprocessing is disabled for Windows\n"
     ]
    },
    {
     "name": "stderr",
     "output_type": "stream",
     "text": [
      "C:\\ProgramData\\anaconda3\\envs\\cellpose-env\\lib\\site-packages\\skimage\\_shared\\utils.py:328: UserWarning: E:/Lien_Lab/Sam/OIC-130_CellCountScript/masks\\masks_VID2213_B2_6_01d06h00m.tif is a low contrast image\n",
      "  return func(*args, **kwargs)\n",
      "C:\\ProgramData\\anaconda3\\envs\\cellpose-env\\lib\\site-packages\\skimage\\_shared\\utils.py:328: UserWarning: E:/Lien_Lab/Sam/OIC-130_CellCountScript/masks\\masks_VID2213_B5_1_00d00h00m.tif is a low contrast image\n",
      "  return func(*args, **kwargs)\n"
     ]
    },
    {
     "name": "stdout",
     "output_type": "stream",
     "text": [
      "2025-05-15 12:24:52,734 [WARNING] Multiprocessing is disabled for Windows\n"
     ]
    },
    {
     "name": "stderr",
     "output_type": "stream",
     "text": [
      "C:\\ProgramData\\anaconda3\\envs\\cellpose-env\\lib\\site-packages\\skimage\\_shared\\utils.py:328: UserWarning: E:/Lien_Lab/Sam/OIC-130_CellCountScript/masks\\masks_VID2213_B5_1_01d06h00m.tif is a low contrast image\n",
      "  return func(*args, **kwargs)\n",
      "C:\\ProgramData\\anaconda3\\envs\\cellpose-env\\lib\\site-packages\\skimage\\_shared\\utils.py:328: UserWarning: E:/Lien_Lab/Sam/OIC-130_CellCountScript/masks\\masks_VID2213_B5_2_00d00h00m.tif is a low contrast image\n",
      "  return func(*args, **kwargs)\n"
     ]
    },
    {
     "name": "stdout",
     "output_type": "stream",
     "text": [
      "2025-05-15 12:25:07,479 [WARNING] Multiprocessing is disabled for Windows\n"
     ]
    },
    {
     "name": "stderr",
     "output_type": "stream",
     "text": [
      "C:\\ProgramData\\anaconda3\\envs\\cellpose-env\\lib\\site-packages\\skimage\\_shared\\utils.py:328: UserWarning: E:/Lien_Lab/Sam/OIC-130_CellCountScript/masks\\masks_VID2213_B5_2_01d06h00m.tif is a low contrast image\n",
      "  return func(*args, **kwargs)\n",
      "C:\\ProgramData\\anaconda3\\envs\\cellpose-env\\lib\\site-packages\\skimage\\_shared\\utils.py:328: UserWarning: E:/Lien_Lab/Sam/OIC-130_CellCountScript/masks\\masks_VID2213_B5_3_00d00h00m.tif is a low contrast image\n",
      "  return func(*args, **kwargs)\n"
     ]
    },
    {
     "name": "stdout",
     "output_type": "stream",
     "text": [
      "2025-05-15 12:25:22,610 [WARNING] Multiprocessing is disabled for Windows\n"
     ]
    },
    {
     "name": "stderr",
     "output_type": "stream",
     "text": [
      "C:\\ProgramData\\anaconda3\\envs\\cellpose-env\\lib\\site-packages\\skimage\\_shared\\utils.py:328: UserWarning: E:/Lien_Lab/Sam/OIC-130_CellCountScript/masks\\masks_VID2213_B5_3_01d06h00m.tif is a low contrast image\n",
      "  return func(*args, **kwargs)\n",
      "C:\\ProgramData\\anaconda3\\envs\\cellpose-env\\lib\\site-packages\\skimage\\_shared\\utils.py:328: UserWarning: E:/Lien_Lab/Sam/OIC-130_CellCountScript/masks\\masks_VID2213_B5_4_00d00h00m.tif is a low contrast image\n",
      "  return func(*args, **kwargs)\n"
     ]
    },
    {
     "name": "stdout",
     "output_type": "stream",
     "text": [
      "2025-05-15 12:25:38,144 [WARNING] Multiprocessing is disabled for Windows\n"
     ]
    },
    {
     "name": "stderr",
     "output_type": "stream",
     "text": [
      "C:\\ProgramData\\anaconda3\\envs\\cellpose-env\\lib\\site-packages\\skimage\\_shared\\utils.py:328: UserWarning: E:/Lien_Lab/Sam/OIC-130_CellCountScript/masks\\masks_VID2213_B5_4_01d06h00m.tif is a low contrast image\n",
      "  return func(*args, **kwargs)\n",
      "C:\\ProgramData\\anaconda3\\envs\\cellpose-env\\lib\\site-packages\\skimage\\_shared\\utils.py:328: UserWarning: E:/Lien_Lab/Sam/OIC-130_CellCountScript/masks\\masks_VID2213_B5_5_00d00h00m.tif is a low contrast image\n",
      "  return func(*args, **kwargs)\n"
     ]
    },
    {
     "name": "stdout",
     "output_type": "stream",
     "text": [
      "2025-05-15 12:25:52,946 [WARNING] Multiprocessing is disabled for Windows\n"
     ]
    },
    {
     "name": "stderr",
     "output_type": "stream",
     "text": [
      "C:\\ProgramData\\anaconda3\\envs\\cellpose-env\\lib\\site-packages\\skimage\\_shared\\utils.py:328: UserWarning: E:/Lien_Lab/Sam/OIC-130_CellCountScript/masks\\masks_VID2213_B5_5_01d06h00m.tif is a low contrast image\n",
      "  return func(*args, **kwargs)\n",
      "C:\\ProgramData\\anaconda3\\envs\\cellpose-env\\lib\\site-packages\\skimage\\_shared\\utils.py:328: UserWarning: E:/Lien_Lab/Sam/OIC-130_CellCountScript/masks\\masks_VID2213_B5_6_00d00h00m.tif is a low contrast image\n",
      "  return func(*args, **kwargs)\n",
      "C:\\ProgramData\\anaconda3\\envs\\cellpose-env\\lib\\site-packages\\skimage\\_shared\\utils.py:328: UserWarning: E:/Lien_Lab/Sam/OIC-130_CellCountScript/masks\\masks_VID2213_C4_1_00d00h00m.tif is a low contrast image\n",
      "  return func(*args, **kwargs)\n"
     ]
    },
    {
     "name": "stdout",
     "output_type": "stream",
     "text": [
      "2025-05-15 12:26:09,848 [WARNING] Multiprocessing is disabled for Windows\n"
     ]
    },
    {
     "name": "stderr",
     "output_type": "stream",
     "text": [
      "C:\\ProgramData\\anaconda3\\envs\\cellpose-env\\lib\\site-packages\\skimage\\_shared\\utils.py:328: UserWarning: E:/Lien_Lab/Sam/OIC-130_CellCountScript/masks\\masks_VID2213_C4_1_01d06h00m.tif is a low contrast image\n",
      "  return func(*args, **kwargs)\n",
      "C:\\ProgramData\\anaconda3\\envs\\cellpose-env\\lib\\site-packages\\skimage\\_shared\\utils.py:328: UserWarning: E:/Lien_Lab/Sam/OIC-130_CellCountScript/masks\\masks_VID2213_C4_2_00d00h00m.tif is a low contrast image\n",
      "  return func(*args, **kwargs)\n"
     ]
    },
    {
     "name": "stdout",
     "output_type": "stream",
     "text": [
      "2025-05-15 12:26:22,434 [WARNING] Multiprocessing is disabled for Windows\n"
     ]
    },
    {
     "name": "stderr",
     "output_type": "stream",
     "text": [
      "C:\\ProgramData\\anaconda3\\envs\\cellpose-env\\lib\\site-packages\\skimage\\_shared\\utils.py:328: UserWarning: E:/Lien_Lab/Sam/OIC-130_CellCountScript/masks\\masks_VID2213_C4_2_01d06h00m.tif is a low contrast image\n",
      "  return func(*args, **kwargs)\n",
      "C:\\ProgramData\\anaconda3\\envs\\cellpose-env\\lib\\site-packages\\skimage\\_shared\\utils.py:328: UserWarning: E:/Lien_Lab/Sam/OIC-130_CellCountScript/masks\\masks_VID2213_C4_3_00d00h00m.tif is a low contrast image\n",
      "  return func(*args, **kwargs)\n"
     ]
    },
    {
     "name": "stdout",
     "output_type": "stream",
     "text": [
      "2025-05-15 12:26:36,718 [WARNING] Multiprocessing is disabled for Windows\n"
     ]
    },
    {
     "name": "stderr",
     "output_type": "stream",
     "text": [
      "C:\\ProgramData\\anaconda3\\envs\\cellpose-env\\lib\\site-packages\\skimage\\_shared\\utils.py:328: UserWarning: E:/Lien_Lab/Sam/OIC-130_CellCountScript/masks\\masks_VID2213_C4_3_01d06h00m.tif is a low contrast image\n",
      "  return func(*args, **kwargs)\n",
      "C:\\ProgramData\\anaconda3\\envs\\cellpose-env\\lib\\site-packages\\skimage\\_shared\\utils.py:328: UserWarning: E:/Lien_Lab/Sam/OIC-130_CellCountScript/masks\\masks_VID2213_C4_4_00d00h00m.tif is a low contrast image\n",
      "  return func(*args, **kwargs)\n"
     ]
    },
    {
     "name": "stdout",
     "output_type": "stream",
     "text": [
      "2025-05-15 12:26:49,623 [WARNING] Multiprocessing is disabled for Windows\n"
     ]
    },
    {
     "name": "stderr",
     "output_type": "stream",
     "text": [
      "C:\\ProgramData\\anaconda3\\envs\\cellpose-env\\lib\\site-packages\\skimage\\_shared\\utils.py:328: UserWarning: E:/Lien_Lab/Sam/OIC-130_CellCountScript/masks\\masks_VID2213_C4_4_01d06h00m.tif is a low contrast image\n",
      "  return func(*args, **kwargs)\n",
      "C:\\ProgramData\\anaconda3\\envs\\cellpose-env\\lib\\site-packages\\skimage\\_shared\\utils.py:328: UserWarning: E:/Lien_Lab/Sam/OIC-130_CellCountScript/masks\\masks_VID2213_C4_5_00d00h00m.tif is a low contrast image\n",
      "  return func(*args, **kwargs)\n",
      "C:\\ProgramData\\anaconda3\\envs\\cellpose-env\\lib\\site-packages\\skimage\\_shared\\utils.py:328: UserWarning: E:/Lien_Lab/Sam/OIC-130_CellCountScript/masks\\masks_VID2213_C4_5_01d06h00m.tif is a low contrast image\n",
      "  return func(*args, **kwargs)\n"
     ]
    }
   ],
   "source": [
    "props = ['label','area']\n",
    "save_path = 'E:/Lien_Lab/Sam/OIC-130_CellCountScript/'\n",
    "for i in range(len(all_img)):\n",
    "    img_name = os.path.basename(all_files[i])\n",
    "    masks, _, _ = model.eval(all_img[i], diameter=20, channels=channels)\n",
    "    df = get_measurements(masks,props)\n",
    "    save(save_path=save_path, img_name=img_name, masks=masks, merged_df=df)"
   ]
  },
  {
   "cell_type": "code",
   "execution_count": null,
   "id": "983acb93-264f-47ba-890b-91eef4139326",
   "metadata": {},
   "outputs": [],
   "source": [
    "from cellpose import io, utils\n",
    "\n",
    "# image_name is file name of image\n",
    "# masks is numpy array of masks for image\n",
    "base = os.path.splitext(image_name)[0]\n",
    "outlines = utils.outlines_list(masks)\n",
    "io.outlines_to_text(base, outlines)"
   ]
  }
 ],
 "metadata": {
  "kernelspec": {
   "display_name": "CellPose",
   "language": "python",
   "name": "cellpose"
  },
  "language_info": {
   "codemirror_mode": {
    "name": "ipython",
    "version": 3
   },
   "file_extension": ".py",
   "mimetype": "text/x-python",
   "name": "python",
   "nbconvert_exporter": "python",
   "pygments_lexer": "ipython3",
   "version": "3.10.16"
  }
 },
 "nbformat": 4,
 "nbformat_minor": 5
}
