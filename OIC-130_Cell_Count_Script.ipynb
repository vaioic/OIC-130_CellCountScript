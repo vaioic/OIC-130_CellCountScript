{
 "cells": [
  {
   "cell_type": "code",
   "execution_count": null,
   "id": "e9ab2301-00b8-471d-bcaf-e8edea487087",
   "metadata": {},
   "outputs": [],
   "source": [
    "import skimage as sk\n",
    "from skimage.io import imsave\n",
    "import numpy as np\n",
    "import os\n",
    "from glob import glob\n",
    "import napari\n",
    "from cellpose import models, io, utils\n",
    "from cellpose.io import imread\n",
    "from cellpose import io, utils\n",
    "import matplotlib.pyplot as plt\n",
    "import pandas as pd"
   ]
  },
  {
   "cell_type": "code",
   "execution_count": null,
   "id": "08d8ac11-10f8-4e9c-b282-a4a81e58ab74",
   "metadata": {},
   "outputs": [],
   "source": [
    "def get_measurements(mask,props):\n",
    "    measurements = sk.measure.regionprops_table(mask,properties=props)\n",
    "    df = pd.DataFrame.from_dict(measurements)\n",
    "    return df"
   ]
  },
  {
   "cell_type": "code",
   "execution_count": null,
   "id": "1f43f53d-ada7-4e12-909f-a35d80379ead",
   "metadata": {},
   "outputs": [],
   "source": [
    "def save(save_path, img_name, masks, merged_df):\n",
    "    # make directories if they do not exist\n",
    "    try:\n",
    "        masks_path = os.mkdir(os.path.join(save_path,'masks'))\n",
    "        dataframe_path = os.mkdir(os.path.join(save_path,'measurements'))\n",
    "        outlines_path = os.mkdir(os.path.join(save_path,'ImageJ_ROIs'))\n",
    "    # use the expected paths if the directories exist already\n",
    "    except:\n",
    "        masks_path = os.path.join(save_path,'masks')\n",
    "        dataframe_path = os.path.join(save_path,'measurements')\n",
    "        outlines_path = os.path.join(save_path,'ImageJ_ROIs') \n",
    "    imsave(os.path.join(masks_path,'masks_'+img_name[:-4]+'.tif'),masks)\n",
    "    merged_df.to_csv(os.path.join(dataframe_path,'measurements_'+img_name[:-4]+'.csv'))\n",
    "    io.save_rois(masks,img_name)"
   ]
  },
  {
   "cell_type": "code",
   "execution_count": null,
   "id": "955373b2-4e55-4de2-8da7-12f3ea8f7c93",
   "metadata": {},
   "outputs": [],
   "source": [
    "all_files = sorted(glob('E:/Lien_Lab/Sam/OIC-130_CellCountScript/All_Imgs/Imgs/*.tif'))\n",
    "all_img = [imread(file) for file in all_files]"
   ]
  },
  {
   "cell_type": "code",
   "execution_count": null,
   "id": "1bfe3b5c-42cd-4ef6-b37e-17ef2dea561f",
   "metadata": {},
   "outputs": [],
   "source": [
    "test_img = all_img[0]"
   ]
  },
  {
   "cell_type": "code",
   "execution_count": null,
   "id": "6634c8b7-5eaa-4875-91dd-100f67170759",
   "metadata": {},
   "outputs": [],
   "source": [
    "io.logger_setup()\n",
    "model = models.CellposeModel(gpu=True,pretrained_model='IncucyteV4')\n",
    "# model_type='cyto' or 'nuclei' or 'cyto2' or 'cyto3'\n",
    "channels =[[0,0]]\n",
    "#masks, _, _= model.eval(test_img, diameter=20, channels=channels)"
   ]
  },
  {
   "cell_type": "code",
   "execution_count": null,
   "id": "622d9c98-c613-4f22-9afa-a88df9f2ddfc",
   "metadata": {},
   "outputs": [],
   "source": [
    "print(np.max(masks))"
   ]
  },
  {
   "cell_type": "code",
   "execution_count": null,
   "id": "82097fc6-7925-433b-8624-b20e5ba8800a",
   "metadata": {},
   "outputs": [],
   "source": [
    "props = ['label','area']\n",
    "save_path = 'E:/Lien_Lab/Sam/OIC-130_CellCountScript/'\n",
    "for i in range(len(all_img)):\n",
    "    img_name = os.path.basename(all_files[i])\n",
    "    masks, _, _ = model.eval(all_img[i], diameter=20, channels=channels)\n",
    "    df = get_measurements(masks,props)\n",
    "    save(save_path=save_path, img_name=img_name, masks=masks, merged_df=df)"
   ]
  },
  {
   "cell_type": "code",
   "execution_count": null,
   "id": "983acb93-264f-47ba-890b-91eef4139326",
   "metadata": {},
   "outputs": [],
   "source": [
    "from cellpose import io, utils\n",
    "\n",
    "# image_name is file name of image\n",
    "# masks is numpy array of masks for image\n",
    "base = os.path.splitext(image_name)[0]\n",
    "outlines = utils.outlines_list(masks)\n",
    "io.outlines_to_text(base, outlines)"
   ]
  }
 ],
 "metadata": {
  "kernelspec": {
   "display_name": "CellPose",
   "language": "python",
   "name": "cellpose"
  },
  "language_info": {
   "codemirror_mode": {
    "name": "ipython",
    "version": 3
   },
   "file_extension": ".py",
   "mimetype": "text/x-python",
   "name": "python",
   "nbconvert_exporter": "python",
   "pygments_lexer": "ipython3",
   "version": "3.10.16"
  }
 },
 "nbformat": 4,
 "nbformat_minor": 5
}
