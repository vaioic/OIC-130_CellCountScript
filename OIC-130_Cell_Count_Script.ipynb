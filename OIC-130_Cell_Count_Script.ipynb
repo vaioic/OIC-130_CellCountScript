{
 "cells": [
  {
   "cell_type": "code",
   "execution_count": 1,
   "id": "e9ab2301-00b8-471d-bcaf-e8edea487087",
   "metadata": {},
   "outputs": [],
   "source": [
    "import skimage as sk\n",
    "from skimage.io import imread, imshow, imsave\n",
    "import numpy as np\n",
    "import os\n",
    "from glob import glob\n",
    "import napari\n",
    "from cellpose import models, io, utils\n",
    "from cellpose.io import imread\n",
    "import matplotlib.pyplot as plt\n",
    "import pandas as pd"
   ]
  },
  {
   "cell_type": "code",
   "execution_count": 2,
   "id": "08d8ac11-10f8-4e9c-b282-a4a81e58ab74",
   "metadata": {},
   "outputs": [],
   "source": [
    "def get_measurements(mask,props):\n",
    "    df = sk.measure.regionprops_table(mask,img,properties=props)\n",
    "    return df"
   ]
  },
  {
   "cell_type": "code",
   "execution_count": null,
   "id": "1f43f53d-ada7-4e12-909f-a35d80379ead",
   "metadata": {},
   "outputs": [],
   "source": [
    "def save(save_path, img_name, masks, flows, merged_df):\n",
    "    # make directories if they do not exist\n",
    "    try:\n",
    "        masks_path = os.mkdir(os.path.join(save_path,'masks'))\n",
    "        flows_path = os.mkdir(os.path.join(save_path,'flows'))\n",
    "        dataframe_path = os.mkdir(os.path.join(save_path,'measurements'))\n",
    "    # use the expected paths if the directories exist already\n",
    "    except:\n",
    "        masks_path = os.path.join(save_path,'masks')\n",
    "        flows_path = os.path.join(save_path,'flows')\n",
    "        dataframe_path = os.path.join(save_path,'measurements')\n",
    "    imsave(os.path.join(masks_path,'masks_'+img_name[:-4]+'.tif'),mask_img)\n",
    "    imsave(os.path.join(selected_spots_path,'flows_'+img_name[:-4]+'.tif'),selected_spots)\n",
    "    merged_df.to_csv(os.path.join(dataframe_path,'measurements_'+img_name[:-4]+'.csv'))"
   ]
  },
  {
   "cell_type": "code",
   "execution_count": null,
   "id": "955373b2-4e55-4de2-8da7-12f3ea8f7c93",
   "metadata": {},
   "outputs": [],
   "source": [
    "all_files = sorted(glob('E:/Lien_Lab/Sam/OIC-130_CellCountScript/All_Imgs/*.tif'))\n",
    "all_img = list(map(sk.io.imread,all_files))"
   ]
  },
  {
   "cell_type": "code",
   "execution_count": null,
   "id": "6634c8b7-5eaa-4875-91dd-100f67170759",
   "metadata": {},
   "outputs": [],
   "source": [
    "io.logger_setup()\n",
    "model = models.CellposeModel(gpu=True,pretrained_model='IncucyteV4')\n",
    "#model = models.Cellpose(gpu=True,pretrained_model='E:/Lien_Lab/Sam/OIC-130_CellCountScript/All_Imgs/models/IncucyteV4') # model_type='cyto' or 'nuclei' or 'cyto2' or 'cyto3'\n",
    "channels =[[0,0]]"
   ]
  },
  {
   "cell_type": "code",
   "execution_count": null,
   "id": "82097fc6-7925-433b-8624-b20e5ba8800a",
   "metadata": {},
   "outputs": [],
   "source": [
    "props = ['label','area']\n",
    "save_path = 'E:/Lien_Lab/Sam/OIC-130_CellCountScript/'\n",
    "for i in range(len(masks)):\n",
    "    img_name = os.path.basename(all_files[i])\n",
    "    masks, flows, styles, diams = model.eval(all_img[i], diameter=20, channels=channels,flow_threshold=0.4)\n",
    "    df = get_measurements(masks,props)\n",
    "    save(save_path, img_name, masks, flows, merged_df=df)"
   ]
  }
 ],
 "metadata": {
  "kernelspec": {
   "display_name": "CellPose",
   "language": "python",
   "name": "cellpose"
  },
  "language_info": {
   "codemirror_mode": {
    "name": "ipython",
    "version": 3
   },
   "file_extension": ".py",
   "mimetype": "text/x-python",
   "name": "python",
   "nbconvert_exporter": "python",
   "pygments_lexer": "ipython3",
   "version": "3.10.16"
  }
 },
 "nbformat": 4,
 "nbformat_minor": 5
}
